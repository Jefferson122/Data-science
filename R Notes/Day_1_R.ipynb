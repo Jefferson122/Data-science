{
  "nbformat": 4,
  "nbformat_minor": 0,
  "metadata": {
    "colab": {
      "provenance": [],
      "authorship_tag": "ABX9TyOaCZNoK3/SM8w2gvl8PAEJ",
      "include_colab_link": true
    },
    "kernelspec": {
      "name": "ir",
      "display_name": "R"
    },
    "language_info": {
      "name": "R"
    }
  },
  "cells": [
    {
      "cell_type": "markdown",
      "metadata": {
        "id": "view-in-github",
        "colab_type": "text"
      },
      "source": [
        "<a href=\"https://colab.research.google.com/github/Jefferson122/Data-science/blob/New/Day_1_R.ipynb\" target=\"_parent\"><img src=\"https://colab.research.google.com/assets/colab-badge.svg\" alt=\"Open In Colab\"/></a>"
      ]
    },
    {
      "cell_type": "markdown",
      "source": [
        "#Functionals\n",
        "### The most fundamental functional is purrr::map()53. It takes a vector and a function, calls the function once for each element of the vector, and returns the results in a list. In other words, map(1:3, f) is equivalent to list(f(1), f(2), f(3)).[Functionals example](https://adv-r.hadley.nz/functionals.html)\n",
        "![image.png](data:image/png;base64,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)\n"
      ],
      "metadata": {
        "id": "0Ssgt6gFUe4t"
      }
    },
    {
      "cell_type": "code",
      "execution_count": 7,
      "metadata": {
        "colab": {
          "base_uri": "https://localhost:8080/",
          "height": 97
        },
        "id": "l590WtXdRviW",
        "outputId": "fc71ebd5-7334-439a-8543-17d14e9ea76a"
      },
      "outputs": [
        {
          "output_type": "display_data",
          "data": {
            "text/html": [
              "<ol>\n",
              "\t<li>3</li>\n",
              "\t<li>6</li>\n",
              "\t<li>9</li>\n",
              "</ol>\n"
            ],
            "text/markdown": "1. 3\n2. 6\n3. 9\n\n\n",
            "text/latex": "\\begin{enumerate}\n\\item 3\n\\item 6\n\\item 9\n\\end{enumerate}\n",
            "text/plain": [
              "[[1]]\n",
              "[1] 3\n",
              "\n",
              "[[2]]\n",
              "[1] 6\n",
              "\n",
              "[[3]]\n",
              "[1] 9\n"
            ]
          },
          "metadata": {}
        }
      ],
      "source": [
        "# Functionn 3x applied to array (1,2,3) ; remember 1:n is 1,2,3...n with n integer\n",
        "triple <- function(x) x * 3\n",
        "map(1:3, triple)"
      ]
    },
    {
      "cell_type": "code",
      "source": [
        "head(iris[, -5],5)"
      ],
      "metadata": {
        "colab": {
          "base_uri": "https://localhost:8080/",
          "height": 255
        },
        "id": "GDg_q_SvYP8R",
        "outputId": "0394ce95-cbdc-4e67-8a63-90daa7ddcb09"
      },
      "execution_count": 10,
      "outputs": [
        {
          "output_type": "display_data",
          "data": {
            "text/html": [
              "<table class=\"dataframe\">\n",
              "<caption>A data.frame: 5 × 4</caption>\n",
              "<thead>\n",
              "\t<tr><th></th><th scope=col>Sepal.Length</th><th scope=col>Sepal.Width</th><th scope=col>Petal.Length</th><th scope=col>Petal.Width</th></tr>\n",
              "\t<tr><th></th><th scope=col>&lt;dbl&gt;</th><th scope=col>&lt;dbl&gt;</th><th scope=col>&lt;dbl&gt;</th><th scope=col>&lt;dbl&gt;</th></tr>\n",
              "</thead>\n",
              "<tbody>\n",
              "\t<tr><th scope=row>1</th><td>5.1</td><td>3.5</td><td>1.4</td><td>0.2</td></tr>\n",
              "\t<tr><th scope=row>2</th><td>4.9</td><td>3.0</td><td>1.4</td><td>0.2</td></tr>\n",
              "\t<tr><th scope=row>3</th><td>4.7</td><td>3.2</td><td>1.3</td><td>0.2</td></tr>\n",
              "\t<tr><th scope=row>4</th><td>4.6</td><td>3.1</td><td>1.5</td><td>0.2</td></tr>\n",
              "\t<tr><th scope=row>5</th><td>5.0</td><td>3.6</td><td>1.4</td><td>0.2</td></tr>\n",
              "</tbody>\n",
              "</table>\n"
            ],
            "text/markdown": "\nA data.frame: 5 × 4\n\n| <!--/--> | Sepal.Length &lt;dbl&gt; | Sepal.Width &lt;dbl&gt; | Petal.Length &lt;dbl&gt; | Petal.Width &lt;dbl&gt; |\n|---|---|---|---|---|\n| 1 | 5.1 | 3.5 | 1.4 | 0.2 |\n| 2 | 4.9 | 3.0 | 1.4 | 0.2 |\n| 3 | 4.7 | 3.2 | 1.3 | 0.2 |\n| 4 | 4.6 | 3.1 | 1.5 | 0.2 |\n| 5 | 5.0 | 3.6 | 1.4 | 0.2 |\n\n",
            "text/latex": "A data.frame: 5 × 4\n\\begin{tabular}{r|llll}\n  & Sepal.Length & Sepal.Width & Petal.Length & Petal.Width\\\\\n  & <dbl> & <dbl> & <dbl> & <dbl>\\\\\n\\hline\n\t1 & 5.1 & 3.5 & 1.4 & 0.2\\\\\n\t2 & 4.9 & 3.0 & 1.4 & 0.2\\\\\n\t3 & 4.7 & 3.2 & 1.3 & 0.2\\\\\n\t4 & 4.6 & 3.1 & 1.5 & 0.2\\\\\n\t5 & 5.0 & 3.6 & 1.4 & 0.2\\\\\n\\end{tabular}\n",
            "text/plain": [
              "  Sepal.Length Sepal.Width Petal.Length Petal.Width\n",
              "1 5.1          3.5         1.4          0.2        \n",
              "2 4.9          3.0         1.4          0.2        \n",
              "3 4.7          3.2         1.3          0.2        \n",
              "4 4.6          3.1         1.5          0.2        \n",
              "5 5.0          3.6         1.4          0.2        "
            ]
          },
          "metadata": {}
        }
      ]
    },
    {
      "cell_type": "code",
      "source": [
        "#Margin 2 is column and margin 1 row\n",
        "a1<-apply(X = iris[, -5], MARGIN = 2, FUN = sum) # The total for each column was calculated in the data frame (the function is \"sum\")\n",
        "print(a1)"
      ],
      "metadata": {
        "colab": {
          "base_uri": "https://localhost:8080/"
        },
        "id": "5iVmozOdSN-6",
        "outputId": "dd9fa947-57b5-4c51-82da-90457451121e"
      },
      "execution_count": 23,
      "outputs": [
        {
          "output_type": "stream",
          "name": "stdout",
          "text": [
            "Sepal.Length  Sepal.Width Petal.Length  Petal.Width \n",
            "       876.5        458.6        563.7        179.9 \n"
          ]
        }
      ]
    },
    {
      "cell_type": "code",
      "source": [
        "print(a2<-array(data=1:24, dim = c(3, 4, 2)))"
      ],
      "metadata": {
        "colab": {
          "base_uri": "https://localhost:8080/"
        },
        "id": "X8oTZ2v2UeM8",
        "outputId": "da7c2770-4205-46c5-9773-b8eb07f1fba6"
      },
      "execution_count": 16,
      "outputs": [
        {
          "output_type": "stream",
          "name": "stdout",
          "text": [
            ", , 1\n",
            "\n",
            "     [,1] [,2] [,3] [,4]\n",
            "[1,]    1    4    7   10\n",
            "[2,]    2    5    8   11\n",
            "[3,]    3    6    9   12\n",
            "\n",
            ", , 2\n",
            "\n",
            "     [,1] [,2] [,3] [,4]\n",
            "[1,]   13   16   19   22\n",
            "[2,]   14   17   20   23\n",
            "[3,]   15   18   21   24\n",
            "\n"
          ]
        }
      ]
    },
    {
      "cell_type": "code",
      "source": [
        "apply(a2, MARGIN = 2, FUN = sum) #sum each column in both matrix like union (1+2+3+4+13+14+15=48)\n",
        "apply(a2[,,1], 2, sum) # sum only each column in component 1 of the array a2\n"
      ],
      "metadata": {
        "colab": {
          "base_uri": "https://localhost:8080/",
          "height": 52
        },
        "id": "gRv5amN-UTQ-",
        "outputId": "1d1357fa-8a9d-4012-88c2-0aed2d34a13c"
      },
      "execution_count": 20,
      "outputs": [
        {
          "output_type": "display_data",
          "data": {
            "text/html": [
              "<style>\n",
              ".list-inline {list-style: none; margin:0; padding: 0}\n",
              ".list-inline>li {display: inline-block}\n",
              ".list-inline>li:not(:last-child)::after {content: \"\\00b7\"; padding: 0 .5ex}\n",
              "</style>\n",
              "<ol class=list-inline><li>48</li><li>66</li><li>84</li><li>102</li></ol>\n"
            ],
            "text/markdown": "1. 48\n2. 66\n3. 84\n4. 102\n\n\n",
            "text/latex": "\\begin{enumerate*}\n\\item 48\n\\item 66\n\\item 84\n\\item 102\n\\end{enumerate*}\n",
            "text/plain": [
              "[1]  48  66  84 102"
            ]
          },
          "metadata": {}
        },
        {
          "output_type": "display_data",
          "data": {
            "text/html": [
              "<style>\n",
              ".list-inline {list-style: none; margin:0; padding: 0}\n",
              ".list-inline>li {display: inline-block}\n",
              ".list-inline>li:not(:last-child)::after {content: \"\\00b7\"; padding: 0 .5ex}\n",
              "</style>\n",
              "<ol class=list-inline><li>6</li><li>15</li><li>24</li><li>33</li></ol>\n"
            ],
            "text/markdown": "1. 6\n2. 15\n3. 24\n4. 33\n\n\n",
            "text/latex": "\\begin{enumerate*}\n\\item 6\n\\item 15\n\\item 24\n\\item 33\n\\end{enumerate*}\n",
            "text/plain": [
              "[1]  6 15 24 33"
            ]
          },
          "metadata": {}
        }
      ]
    },
    {
      "cell_type": "markdown",
      "source": [],
      "metadata": {
        "id": "TdVjN_YyAizt"
      }
    }
  ]
}
