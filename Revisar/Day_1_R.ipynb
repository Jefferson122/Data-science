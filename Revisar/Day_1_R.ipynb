{
  "nbformat": 4,
  "nbformat_minor": 0,
  "metadata": {
    "colab": {
      "provenance": [],
      "authorship_tag": "ABX9TyNn6s80TVzyp0Dj4VHxG8z2",
      "include_colab_link": true
    },
    "kernelspec": {
      "name": "ir",
      "display_name": "R"
    },
    "language_info": {
      "name": "R"
    }
  },
  "cells": [
    {
      "cell_type": "markdown",
      "metadata": {
        "id": "view-in-github",
        "colab_type": "text"
      },
      "source": [
        "<a href=\"https://colab.research.google.com/github/Jefferson122/Data-science/blob/New/Revisar/Day_1_R.ipynb\" target=\"_parent\"><img src=\"https://colab.research.google.com/assets/colab-badge.svg\" alt=\"Open In Colab\"/></a>"
      ]
    },
    {
      "cell_type": "markdown",
      "source": [
        "#Functionals\n",
        "### The most fundamental functional is purrr::map()53. It takes a vector and a function, calls the function once for each element of the vector, and returns the results in a list. In other words, map(1:3, f) is equivalent to list(f(1), f(2), f(3)).[Functionals example](https://adv-r.hadley.nz/functionals.html)"
      ],
      "metadata": {
        "id": "ARTnhmOARldV"
      }
    },
    {
      "cell_type": "code",
      "source": [
        "head(iris[, -5],5)"
      ],
      "metadata": {
        "id": "GDg_q_SvYP8R",
        "colab": {
          "base_uri": "https://localhost:8080/",
          "height": 255
        },
        "outputId": "81f438be-2610-4138-e112-8b6e1f25e4c6"
      },
      "execution_count": 37,
      "outputs": [
        {
          "output_type": "display_data",
          "data": {
            "text/html": [
              "<table class=\"dataframe\">\n",
              "<caption>A data.frame: 5 × 4</caption>\n",
              "<thead>\n",
              "\t<tr><th></th><th scope=col>Sepal.Length</th><th scope=col>Sepal.Width</th><th scope=col>Petal.Length</th><th scope=col>Petal.Width</th></tr>\n",
              "\t<tr><th></th><th scope=col>&lt;dbl&gt;</th><th scope=col>&lt;dbl&gt;</th><th scope=col>&lt;dbl&gt;</th><th scope=col>&lt;dbl&gt;</th></tr>\n",
              "</thead>\n",
              "<tbody>\n",
              "\t<tr><th scope=row>1</th><td>5.1</td><td>3.5</td><td>1.4</td><td>0.2</td></tr>\n",
              "\t<tr><th scope=row>2</th><td>4.9</td><td>3.0</td><td>1.4</td><td>0.2</td></tr>\n",
              "\t<tr><th scope=row>3</th><td>4.7</td><td>3.2</td><td>1.3</td><td>0.2</td></tr>\n",
              "\t<tr><th scope=row>4</th><td>4.6</td><td>3.1</td><td>1.5</td><td>0.2</td></tr>\n",
              "\t<tr><th scope=row>5</th><td>5.0</td><td>3.6</td><td>1.4</td><td>0.2</td></tr>\n",
              "</tbody>\n",
              "</table>\n"
            ],
            "text/markdown": "\nA data.frame: 5 × 4\n\n| <!--/--> | Sepal.Length &lt;dbl&gt; | Sepal.Width &lt;dbl&gt; | Petal.Length &lt;dbl&gt; | Petal.Width &lt;dbl&gt; |\n|---|---|---|---|---|\n| 1 | 5.1 | 3.5 | 1.4 | 0.2 |\n| 2 | 4.9 | 3.0 | 1.4 | 0.2 |\n| 3 | 4.7 | 3.2 | 1.3 | 0.2 |\n| 4 | 4.6 | 3.1 | 1.5 | 0.2 |\n| 5 | 5.0 | 3.6 | 1.4 | 0.2 |\n\n",
            "text/latex": "A data.frame: 5 × 4\n\\begin{tabular}{r|llll}\n  & Sepal.Length & Sepal.Width & Petal.Length & Petal.Width\\\\\n  & <dbl> & <dbl> & <dbl> & <dbl>\\\\\n\\hline\n\t1 & 5.1 & 3.5 & 1.4 & 0.2\\\\\n\t2 & 4.9 & 3.0 & 1.4 & 0.2\\\\\n\t3 & 4.7 & 3.2 & 1.3 & 0.2\\\\\n\t4 & 4.6 & 3.1 & 1.5 & 0.2\\\\\n\t5 & 5.0 & 3.6 & 1.4 & 0.2\\\\\n\\end{tabular}\n",
            "text/plain": [
              "  Sepal.Length Sepal.Width Petal.Length Petal.Width\n",
              "1 5.1          3.5         1.4          0.2        \n",
              "2 4.9          3.0         1.4          0.2        \n",
              "3 4.7          3.2         1.3          0.2        \n",
              "4 4.6          3.1         1.5          0.2        \n",
              "5 5.0          3.6         1.4          0.2        "
            ]
          },
          "metadata": {}
        }
      ]
    },
    {
      "cell_type": "code",
      "source": [
        "#Margin 2 is column and margin 1 row\n",
        "a1<-apply(X = iris[, -5], MARGIN = 2, FUN = sum) # The total for each column was calculated in the data frame (the function is \"sum\")\n",
        "print(a1)"
      ],
      "metadata": {
        "id": "5iVmozOdSN-6",
        "colab": {
          "base_uri": "https://localhost:8080/"
        },
        "outputId": "bdc93fe5-3021-4f91-9e78-e827ed92cb2e"
      },
      "execution_count": 38,
      "outputs": [
        {
          "output_type": "stream",
          "name": "stdout",
          "text": [
            "Sepal.Length  Sepal.Width Petal.Length  Petal.Width \n",
            "       876.5        458.6        563.7        179.9 \n"
          ]
        }
      ]
    },
    {
      "cell_type": "code",
      "source": [
        "print(a2<-array(data=1:24, dim = c(3, 4, 2)))"
      ],
      "metadata": {
        "id": "X8oTZ2v2UeM8",
        "colab": {
          "base_uri": "https://localhost:8080/"
        },
        "outputId": "faa848a9-5b7c-4921-db76-283a013c752e"
      },
      "execution_count": 39,
      "outputs": [
        {
          "output_type": "stream",
          "name": "stdout",
          "text": [
            ", , 1\n",
            "\n",
            "     [,1] [,2] [,3] [,4]\n",
            "[1,]    1    4    7   10\n",
            "[2,]    2    5    8   11\n",
            "[3,]    3    6    9   12\n",
            "\n",
            ", , 2\n",
            "\n",
            "     [,1] [,2] [,3] [,4]\n",
            "[1,]   13   16   19   22\n",
            "[2,]   14   17   20   23\n",
            "[3,]   15   18   21   24\n",
            "\n"
          ]
        }
      ]
    },
    {
      "cell_type": "code",
      "source": [
        "apply(a2, MARGIN = 2, FUN = sum) #sum each column in both matrix like union (1+2+3+4+13+14+15=48)\n",
        "apply(a2[,,1], 2, sum) # sum only each column in component 1 of the array a2\n"
      ],
      "metadata": {
        "id": "gRv5amN-UTQ-",
        "colab": {
          "base_uri": "https://localhost:8080/",
          "height": 52
        },
        "outputId": "1a7036b9-7dcb-45d8-9a31-c471f2bc8ced"
      },
      "execution_count": 40,
      "outputs": [
        {
          "output_type": "display_data",
          "data": {
            "text/html": [
              "<style>\n",
              ".list-inline {list-style: none; margin:0; padding: 0}\n",
              ".list-inline>li {display: inline-block}\n",
              ".list-inline>li:not(:last-child)::after {content: \"\\00b7\"; padding: 0 .5ex}\n",
              "</style>\n",
              "<ol class=list-inline><li>48</li><li>66</li><li>84</li><li>102</li></ol>\n"
            ],
            "text/markdown": "1. 48\n2. 66\n3. 84\n4. 102\n\n\n",
            "text/latex": "\\begin{enumerate*}\n\\item 48\n\\item 66\n\\item 84\n\\item 102\n\\end{enumerate*}\n",
            "text/plain": [
              "[1]  48  66  84 102"
            ]
          },
          "metadata": {}
        },
        {
          "output_type": "display_data",
          "data": {
            "text/html": [
              "<style>\n",
              ".list-inline {list-style: none; margin:0; padding: 0}\n",
              ".list-inline>li {display: inline-block}\n",
              ".list-inline>li:not(:last-child)::after {content: \"\\00b7\"; padding: 0 .5ex}\n",
              "</style>\n",
              "<ol class=list-inline><li>6</li><li>15</li><li>24</li><li>33</li></ol>\n"
            ],
            "text/markdown": "1. 6\n2. 15\n3. 24\n4. 33\n\n\n",
            "text/latex": "\\begin{enumerate*}\n\\item 6\n\\item 15\n\\item 24\n\\item 33\n\\end{enumerate*}\n",
            "text/plain": [
              "[1]  6 15 24 33"
            ]
          },
          "metadata": {}
        }
      ]
    },
    {
      "cell_type": "markdown",
      "source": [
        "# url Data Frame with R\n"
      ],
      "metadata": {
        "id": "TdVjN_YyAizt"
      }
    },
    {
      "cell_type": "code",
      "source": [
        "url1 <- \"http://www.biostatisticien.eu/springeR/imcenfant.txt\"\n",
        "data1 <- read.table(url1, header = TRUE) #File txt\n",
        "url2<- \"https://raw.githubusercontent.com/cienciadedatos/datos-de-miercoles/master/datos/2019/2019-04-24/gapminder_es.csv\"\n",
        "data2 <- read.csv(url2) #File csv\n",
        "head(data2)"
      ],
      "metadata": {
        "id": "EzVBheTADaDp",
        "colab": {
          "base_uri": "https://localhost:8080/",
          "height": 286
        },
        "outputId": "6ea69600-cc0a-49c8-80ce-1496c73fd7d0"
      },
      "execution_count": 31,
      "outputs": [
        {
          "output_type": "display_data",
          "data": {
            "text/html": [
              "<table class=\"dataframe\">\n",
              "<caption>A data.frame: 6 × 6</caption>\n",
              "<thead>\n",
              "\t<tr><th></th><th scope=col>pais</th><th scope=col>continente</th><th scope=col>anio</th><th scope=col>esperanza_de_vida</th><th scope=col>poblacion</th><th scope=col>pib_per_capita</th></tr>\n",
              "\t<tr><th></th><th scope=col>&lt;chr&gt;</th><th scope=col>&lt;chr&gt;</th><th scope=col>&lt;int&gt;</th><th scope=col>&lt;dbl&gt;</th><th scope=col>&lt;int&gt;</th><th scope=col>&lt;dbl&gt;</th></tr>\n",
              "</thead>\n",
              "<tbody>\n",
              "\t<tr><th scope=row>1</th><td>Afganistan</td><td>Asia</td><td>1952</td><td>28.801</td><td> 8425333</td><td>779.4453</td></tr>\n",
              "\t<tr><th scope=row>2</th><td>Afganistan</td><td>Asia</td><td>1957</td><td>30.332</td><td> 9240934</td><td>820.8530</td></tr>\n",
              "\t<tr><th scope=row>3</th><td>Afganistan</td><td>Asia</td><td>1962</td><td>31.997</td><td>10267083</td><td>853.1007</td></tr>\n",
              "\t<tr><th scope=row>4</th><td>Afganistan</td><td>Asia</td><td>1967</td><td>34.020</td><td>11537966</td><td>836.1971</td></tr>\n",
              "\t<tr><th scope=row>5</th><td>Afganistan</td><td>Asia</td><td>1972</td><td>36.088</td><td>13079460</td><td>739.9811</td></tr>\n",
              "\t<tr><th scope=row>6</th><td>Afganistan</td><td>Asia</td><td>1977</td><td>38.438</td><td>14880372</td><td>786.1134</td></tr>\n",
              "</tbody>\n",
              "</table>\n"
            ],
            "text/markdown": "\nA data.frame: 6 × 6\n\n| <!--/--> | pais &lt;chr&gt; | continente &lt;chr&gt; | anio &lt;int&gt; | esperanza_de_vida &lt;dbl&gt; | poblacion &lt;int&gt; | pib_per_capita &lt;dbl&gt; |\n|---|---|---|---|---|---|---|\n| 1 | Afganistan | Asia | 1952 | 28.801 |  8425333 | 779.4453 |\n| 2 | Afganistan | Asia | 1957 | 30.332 |  9240934 | 820.8530 |\n| 3 | Afganistan | Asia | 1962 | 31.997 | 10267083 | 853.1007 |\n| 4 | Afganistan | Asia | 1967 | 34.020 | 11537966 | 836.1971 |\n| 5 | Afganistan | Asia | 1972 | 36.088 | 13079460 | 739.9811 |\n| 6 | Afganistan | Asia | 1977 | 38.438 | 14880372 | 786.1134 |\n\n",
            "text/latex": "A data.frame: 6 × 6\n\\begin{tabular}{r|llllll}\n  & pais & continente & anio & esperanza\\_de\\_vida & poblacion & pib\\_per\\_capita\\\\\n  & <chr> & <chr> & <int> & <dbl> & <int> & <dbl>\\\\\n\\hline\n\t1 & Afganistan & Asia & 1952 & 28.801 &  8425333 & 779.4453\\\\\n\t2 & Afganistan & Asia & 1957 & 30.332 &  9240934 & 820.8530\\\\\n\t3 & Afganistan & Asia & 1962 & 31.997 & 10267083 & 853.1007\\\\\n\t4 & Afganistan & Asia & 1967 & 34.020 & 11537966 & 836.1971\\\\\n\t5 & Afganistan & Asia & 1972 & 36.088 & 13079460 & 739.9811\\\\\n\t6 & Afganistan & Asia & 1977 & 38.438 & 14880372 & 786.1134\\\\\n\\end{tabular}\n",
            "text/plain": [
              "  pais       continente anio esperanza_de_vida poblacion pib_per_capita\n",
              "1 Afganistan Asia       1952 28.801             8425333  779.4453      \n",
              "2 Afganistan Asia       1957 30.332             9240934  820.8530      \n",
              "3 Afganistan Asia       1962 31.997            10267083  853.1007      \n",
              "4 Afganistan Asia       1967 34.020            11537966  836.1971      \n",
              "5 Afganistan Asia       1972 36.088            13079460  739.9811      \n",
              "6 Afganistan Asia       1977 38.438            14880372  786.1134      "
            ]
          },
          "metadata": {}
        }
      ]
    },
    {
      "cell_type": "code",
      "source": [
        "data(package = 'datasets') #datasets for work, iris,Cancer, a lot data sets"
      ],
      "metadata": {
        "id": "eXM0yFlmGwIc"
      },
      "execution_count": 32,
      "outputs": []
    },
    {
      "cell_type": "code",
      "source": [
        "dim(InsectSprays)\n",
        "str(InsectSprays)"
      ],
      "metadata": {
        "id": "6pxLo9lKI148",
        "colab": {
          "base_uri": "https://localhost:8080/",
          "height": 86
        },
        "outputId": "0a15c2bf-2f9b-4278-b7c7-417525f5102e"
      },
      "execution_count": 33,
      "outputs": [
        {
          "output_type": "display_data",
          "data": {
            "text/html": [
              "<style>\n",
              ".list-inline {list-style: none; margin:0; padding: 0}\n",
              ".list-inline>li {display: inline-block}\n",
              ".list-inline>li:not(:last-child)::after {content: \"\\00b7\"; padding: 0 .5ex}\n",
              "</style>\n",
              "<ol class=list-inline><li>72</li><li>2</li></ol>\n"
            ],
            "text/markdown": "1. 72\n2. 2\n\n\n",
            "text/latex": "\\begin{enumerate*}\n\\item 72\n\\item 2\n\\end{enumerate*}\n",
            "text/plain": [
              "[1] 72  2"
            ]
          },
          "metadata": {}
        },
        {
          "output_type": "stream",
          "name": "stdout",
          "text": [
            "'data.frame':\t72 obs. of  2 variables:\n",
            " $ count: num  10 7 20 14 14 12 10 23 17 20 ...\n",
            " $ spray: Factor w/ 6 levels \"A\",\"B\",\"C\",\"D\",..: 1 1 1 1 1 1 1 1 1 1 ...\n"
          ]
        }
      ]
    },
    {
      "cell_type": "code",
      "source": [
        "with(InsectSprays, tapply(count, spray, sum)) #Sum of different class"
      ],
      "metadata": {
        "id": "NqUC9zefJ8cv",
        "colab": {
          "base_uri": "https://localhost:8080/",
          "height": 34
        },
        "outputId": "5672f375-980d-4d03-fc63-853ed5f2dd24"
      },
      "execution_count": 34,
      "outputs": [
        {
          "output_type": "display_data",
          "data": {
            "text/html": [
              "<style>\n",
              ".dl-inline {width: auto; margin:0; padding: 0}\n",
              ".dl-inline>dt, .dl-inline>dd {float: none; width: auto; display: inline-block}\n",
              ".dl-inline>dt::after {content: \":\\0020\"; padding-right: .5ex}\n",
              ".dl-inline>dt:not(:first-of-type) {padding-left: .5ex}\n",
              "</style><dl class=dl-inline><dt>A</dt><dd>174</dd><dt>B</dt><dd>184</dd><dt>C</dt><dd>25</dd><dt>D</dt><dd>59</dd><dt>E</dt><dd>42</dd><dt>F</dt><dd>200</dd></dl>\n"
            ],
            "text/markdown": "A\n:   174B\n:   184C\n:   25D\n:   59E\n:   42F\n:   200\n\n",
            "text/latex": "\\begin{description*}\n\\item[A] 174\n\\item[B] 184\n\\item[C] 25\n\\item[D] 59\n\\item[E] 42\n\\item[F] 200\n\\end{description*}\n",
            "text/plain": [
              "  A   B   C   D   E   F \n",
              "174 184  25  59  42 200 "
            ]
          },
          "metadata": {}
        }
      ]
    },
    {
      "cell_type": "code",
      "source": [
        "#export the data frame df to a CSV file named df.csv in our working directory\n",
        "#create data vectors\n",
        "height <- c(167, 192, 173, 174, 172, 167, 171, 185, 163, 170)\n",
        "weight <- c(86, 74, 83, 50, 78, 66, 66, 51, 50, 55)\n",
        "smoke <- c(\"No\", \"yes\", \"No\", \"yes\", \"No\", \"No\", \"yes\", \"yes\", \"yes\", \"No\")\n",
        "gender <- c(\"M\", \"M\", \"F\", \"M\", \"M\", \"M\", \"F\", \"M\", \"F\", \"F\")\n",
        "# create df\n",
        "df <- data.frame(height, weight, habit = smoke, gender)\n",
        "#The code we provided will export the data frame df to a text file called df.txt in our working directory.\n",
        "write.table(\n",
        " x = df,\n",
        " file = \"df.txt\",\n",
        " sep = \"\\t\",\n",
        " row.names = FALSE,\n",
        " col.names = TRUE\n",
        ")"
      ],
      "metadata": {
        "id": "6euu1hDhKYvG"
      },
      "execution_count": 35,
      "outputs": []
    },
    {
      "cell_type": "code",
      "source": [
        "df_from_txt <- read.table(\n",
        " file = \"df.txt\",\n",
        " header = TRUE,\n",
        " sep = \"\\t\"\n",
        ")\n",
        "# Resultado\n",
        "head(df_from_txt, 3)"
      ],
      "metadata": {
        "id": "gmjs_zGONReb",
        "colab": {
          "base_uri": "https://localhost:8080/",
          "height": 192
        },
        "outputId": "adc9de2a-9446-4f1f-9782-a3a69208be0f"
      },
      "execution_count": 36,
      "outputs": [
        {
          "output_type": "display_data",
          "data": {
            "text/html": [
              "<table class=\"dataframe\">\n",
              "<caption>A data.frame: 3 × 4</caption>\n",
              "<thead>\n",
              "\t<tr><th></th><th scope=col>height</th><th scope=col>weight</th><th scope=col>habit</th><th scope=col>gender</th></tr>\n",
              "\t<tr><th></th><th scope=col>&lt;int&gt;</th><th scope=col>&lt;int&gt;</th><th scope=col>&lt;chr&gt;</th><th scope=col>&lt;chr&gt;</th></tr>\n",
              "</thead>\n",
              "<tbody>\n",
              "\t<tr><th scope=row>1</th><td>167</td><td>86</td><td>No </td><td>M</td></tr>\n",
              "\t<tr><th scope=row>2</th><td>192</td><td>74</td><td>yes</td><td>M</td></tr>\n",
              "\t<tr><th scope=row>3</th><td>173</td><td>83</td><td>No </td><td>F</td></tr>\n",
              "</tbody>\n",
              "</table>\n"
            ],
            "text/markdown": "\nA data.frame: 3 × 4\n\n| <!--/--> | height &lt;int&gt; | weight &lt;int&gt; | habit &lt;chr&gt; | gender &lt;chr&gt; |\n|---|---|---|---|---|\n| 1 | 167 | 86 | No  | M |\n| 2 | 192 | 74 | yes | M |\n| 3 | 173 | 83 | No  | F |\n\n",
            "text/latex": "A data.frame: 3 × 4\n\\begin{tabular}{r|llll}\n  & height & weight & habit & gender\\\\\n  & <int> & <int> & <chr> & <chr>\\\\\n\\hline\n\t1 & 167 & 86 & No  & M\\\\\n\t2 & 192 & 74 & yes & M\\\\\n\t3 & 173 & 83 & No  & F\\\\\n\\end{tabular}\n",
            "text/plain": [
              "  height weight habit gender\n",
              "1 167    86     No    M     \n",
              "2 192    74     yes   M     \n",
              "3 173    83     No    F     "
            ]
          },
          "metadata": {}
        }
      ]
    },
    {
      "cell_type": "code",
      "source": [],
      "metadata": {
        "id": "3MSstLPWOSPa"
      },
      "execution_count": null,
      "outputs": []
    }
  ]
}